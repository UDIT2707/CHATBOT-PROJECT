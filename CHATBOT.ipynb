{
  "nbformat": 4,
  "nbformat_minor": 0,
  "metadata": {
    "colab": {
      "provenance": [],
      "include_colab_link": true
    },
    "kernelspec": {
      "name": "python3",
      "display_name": "Python 3"
    },
    "language_info": {
      "name": "python"
    }
  },
  "cells": [
    {
      "cell_type": "markdown",
      "metadata": {
        "id": "view-in-github",
        "colab_type": "text"
      },
      "source": [
        "<a href=\"https://colab.research.google.com/github/UDIT2707/CHATBOT-PROJECT/blob/main/CHATBOT.ipynb\" target=\"_parent\"><img src=\"https://colab.research.google.com/assets/colab-badge.svg\" alt=\"Open In Colab\"/></a>"
      ]
    },
    {
      "cell_type": "markdown",
      "source": [],
      "metadata": {
        "id": "knW9d-KWN45f"
      }
    },
    {
      "cell_type": "code",
      "execution_count": null,
      "metadata": {
        "id": "_TzqU8m0K_UJ"
      },
      "outputs": [],
      "source": [
        "import string"
      ]
    },
    {
      "cell_type": "code",
      "source": [
        "import random"
      ],
      "metadata": {
        "id": "b8W-izmELHjZ"
      },
      "execution_count": null,
      "outputs": []
    },
    {
      "cell_type": "code",
      "source": [
        "import numpy as np\n"
      ],
      "metadata": {
        "id": "btNWa-bwLNY-"
      },
      "execution_count": null,
      "outputs": []
    },
    {
      "cell_type": "code",
      "source": [
        "import nltk"
      ],
      "metadata": {
        "id": "JBq-7UMiL_95"
      },
      "execution_count": null,
      "outputs": []
    },
    {
      "cell_type": "code",
      "source": [
        "f=open('chatbot.txt','r', errors = 'ignore')\n",
        "raw_doc=f.read()\n",
        "raw_doc=raw_doc.lower()\n",
        "nltk.download('wordnet')\n",
        "nltk.download('punkt')\n",
        "sent_tokens=nltk.sent_tokenize(raw_doc)\n",
        "word_tokens=nltk.word_tokenize(raw_doc)"
      ],
      "metadata": {
        "id": "YemUmBQpMJdZ"
      },
      "execution_count": null,
      "outputs": []
    },
    {
      "cell_type": "code",
      "source": [
        "sent_tokens[:2]"
      ],
      "metadata": {
        "id": "vTMy1MhMMwC-"
      },
      "execution_count": null,
      "outputs": []
    },
    {
      "cell_type": "code",
      "source": [
        "word_tokens[:2]"
      ],
      "metadata": {
        "id": "GV_V8zziM6Kj"
      },
      "execution_count": null,
      "outputs": []
    },
    {
      "cell_type": "markdown",
      "source": [
        "# TEXT PROCESSING NOW\n"
      ],
      "metadata": {
        "id": "BylrWrSDBUfW"
      }
    },
    {
      "cell_type": "code",
      "source": [
        "lemmer = nltk.stem.WordNetLemmatizer()\n",
        "def LemTokens(tokens):\n",
        "  return[lemmer.lemmatize(token) for token in tokens]\n",
        "remove_punct_dict = dict((ord(punct),None) for punct in string.punctuation)\n",
        "def LemNormalize(text):\n",
        "  return LemTokens(nltk.word_tokenize(text.lower().translate(remove_punct_dict)))\n"
      ],
      "metadata": {
        "id": "b1kiVR3lIBk3"
      },
      "execution_count": null,
      "outputs": []
    },
    {
      "cell_type": "markdown",
      "source": [
        "# CREATING GREETING FUCNTONS\n"
      ],
      "metadata": {
        "id": "_5mKyNcZB_rm"
      }
    },
    {
      "cell_type": "code",
      "source": [
        "GREET_INPUTS = (\"hello\", \"hi\", \"greetings\", \"sup\", \"hey\",)\n",
        "GREET_RESPONSES = [\"hi\",\"hey\", \"hi there\", \"hello\", \"I am glad! You are talking to me\"]\n",
        "def greet(sentence):\n",
        "\n",
        "  for word in sentence.split():\n",
        "    if word.lower() in GREET_INPUTS:\n",
        "      return random.choice(GREET_RESPONSES)"
      ],
      "metadata": {
        "id": "L8Lg1NynITfc"
      },
      "execution_count": null,
      "outputs": []
    },
    {
      "cell_type": "code",
      "source": [
        "from sklearn.feature_extraction.text import TfidfVectorizer\n",
        "from sklearn.metrics.pairwise import cosine_similarity"
      ],
      "metadata": {
        "id": "24iYE7erMHFg"
      },
      "execution_count": null,
      "outputs": []
    },
    {
      "cell_type": "code",
      "source": [
        "import spacy"
      ],
      "metadata": {
        "id": "-qIHA4ZfLUvd"
      },
      "execution_count": null,
      "outputs": []
    },
    {
      "cell_type": "code",
      "source": [
        "def response(user_response):\n",
        "  robo1_response=''\n",
        "  TfidVec = TfidfVectorizer(tokenizer=LemNormalize, stop_words='english')\n",
        "  tfidf = TfidVec.fit_transform(sent_tokens)\n",
        "  vals = cosine_similarity(tfidf[-1], tfidf)\n",
        "  idx=vals.argsort()[0][-2]\n",
        "  flat = vals.flatten()\n",
        "  flat.sort()\n",
        "  req_tfidf = flat[-2]\n",
        "  if(req_tfidf==0):\n",
        "    robo1_response=robo1_response+\"I am sorry! I don't understand youu\"\n",
        "    return robo1_response\n",
        "  else:\n",
        "    robo_response = robo1_response+sent_tokens[idx]\n",
        "    return robo1_response\n",
        "\n",
        "\n",
        "nlp = spacy.load(\"en_core_web_sm\")\n",
        "\n",
        "def entity_recognition(text):\n",
        "    doc = nlp(text)\n",
        "    entities = [(ent.text, ent.label_) for ent in doc.ents]\n",
        "    return entities\n"
      ],
      "metadata": {
        "id": "NJUA_vc2NLSo"
      },
      "execution_count": null,
      "outputs": []
    },
    {
      "cell_type": "code",
      "source": [
        "def handle_ambiguity(user_response):\n",
        "    ambiguous_keywords = [\"book\", \"reservation\", \"order\"]\n",
        "\n",
        "    for keyword in ambiguous_keywords:\n",
        "        if keyword in user_response:\n",
        "            return \"Can you please clarify? Are you referring to booking a reservation or placing an order?\"\n",
        "\n",
        "    # No ambiguity found, return the regular response\n",
        "    return response(user_response)\n"
      ],
      "metadata": {
        "id": "SCXPVuXHKQwR"
      },
      "execution_count": null,
      "outputs": []
    },
    {
      "cell_type": "code",
      "source": [
        "flag=True\n",
        "print(\"BOT: My name is UDIT. Let's have a conversation! Also, If you want to exit any time , just type Bye!\")\n",
        "while(flag==True):\n",
        "  user_response = input()\n",
        "  user_response= user_response.lower()\n",
        "  if(user_response!='bye'):\n",
        "    if(user_response=='thanks' or user_response=='thank you'):\n",
        "      flag=False\n",
        "      print(\"BOT: You are welcome..\")\n",
        "    else:\n",
        "      if(greet(user_response)!=None):\n",
        "        print(\"BOT: \"+greet(user_response))\n",
        "      else:\n",
        "            sent_tokens.append(user_response)\n",
        "            word_tokens==word_tokens+nltk.word_tokenize(user_response)\n",
        "            final_words=list(set(word_tokens))\n",
        "            print(\"BOT: \", end=\"\")\n",
        "            print(response(user_response))\n",
        "            sent_tokens.remove(user_response)\n",
        "\n",
        "  else:\n",
        "         flag=False;\n",
        "         print(\"BOT: Goodbye! Take care <3\")"
      ],
      "metadata": {
        "colab": {
          "base_uri": "https://localhost:8080/"
        },
        "id": "YTn2UJiuPyZE",
        "outputId": "df042f52-c005-48af-e54e-28f4b76df32a"
      },
      "execution_count": 58,
      "outputs": [
        {
          "output_type": "stream",
          "name": "stdout",
          "text": [
            "BOT: My name is UDIT. Let's have a conversation! Also, If you want to exit any time , just type Bye!\n",
            "hi\n",
            "BOT: hi there\n",
            "hey\n",
            "BOT: hey\n",
            "bye\n",
            "BOT: Goodbye! Take care <3\n"
          ]
        }
      ]
    },
    {
      "cell_type": "code",
      "source": [
        "from sklearn.metrics import precision_score, recall_score, f1_score\n",
        "\n",
        "ground_truth_labels = [1, 0, 1, 1, 1]\n",
        "predicted_labels = [1, 1, 0, 1, 1]\n",
        "\n",
        "precision = precision_score(ground_truth_labels, predicted_labels)\n",
        "recall = recall_score(ground_truth_labels, predicted_labels)\n",
        "f1 = f1_score(ground_truth_labels, predicted_labels)\n",
        "\n",
        "print(\"Precision:\", precision)\n",
        "print(\"Recall:\", recall)\n",
        "print(\"F1-Score:\", f1)\n"
      ],
      "metadata": {
        "id": "ElxYdLWPSeRR",
        "colab": {
          "base_uri": "https://localhost:8080/"
        },
        "outputId": "8e25e209-36ea-476b-bfc1-c0bbbd7c324a"
      },
      "execution_count": null,
      "outputs": [
        {
          "output_type": "stream",
          "name": "stdout",
          "text": [
            "Precision: 0.75\n",
            "Recall: 0.75\n",
            "F1-Score: 0.75\n"
          ]
        }
      ]
    },
    {
      "cell_type": "code",
      "source": [],
      "metadata": {
        "id": "vDXEtmOrJ0xp"
      },
      "execution_count": null,
      "outputs": []
    }
  ]
}