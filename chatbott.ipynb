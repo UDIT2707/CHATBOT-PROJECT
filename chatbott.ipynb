{
  "nbformat": 4,
  "nbformat_minor": 0,
  "metadata": {
    "colab": {
      "provenance": [],
      "authorship_tag": "ABX9TyPjKQTg1fgRTRdJ3E+W5sKk"
    },
    "kernelspec": {
      "name": "python3",
      "display_name": "Python 3"
    },
    "language_info": {
      "name": "python"
    }
  },
  "cells": [
    {
      "cell_type": "code",
      "source": [
        "import string\n",
        "import random\n",
        "import numpy as np\n",
        "import nltk\n",
        "import spacy"
      ],
      "metadata": {
        "id": "Vh1c21ZFaoAi"
      },
      "execution_count": null,
      "outputs": []
    },
    {
      "cell_type": "code",
      "source": [
        "f = open('chatbot.txt', 'r', errors='ignore')\n",
        "raw_doc = f.read()\n",
        "raw_doc = raw_doc.lower()\n",
        "nltk.download('wordnet')\n",
        "nltk.download('punkt')\n",
        "sent_tokens = nltk.sent_tokenize(raw_doc)\n",
        "word_tokens = nltk.word_tokenize(raw_doc)"
      ],
      "metadata": {
        "colab": {
          "base_uri": "https://localhost:8080/"
        },
        "id": "Ce39FpBxZGMI",
        "outputId": "38383fc6-a5a4-4632-c772-dff9deb67c05"
      },
      "execution_count": null,
      "outputs": [
        {
          "output_type": "stream",
          "name": "stderr",
          "text": [
            "[nltk_data] Downloading package wordnet to /root/nltk_data...\n",
            "[nltk_data]   Package wordnet is already up-to-date!\n",
            "[nltk_data] Downloading package punkt to /root/nltk_data...\n",
            "[nltk_data]   Package punkt is already up-to-date!\n"
          ]
        }
      ]
    },
    {
      "cell_type": "code",
      "source": [
        "def LemTokens(tokens):\n",
        "    return [lemmer.lemmatize(token) for token in tokens]\n",
        "\n",
        "remove_punct_dict = dict((ord(punct), None) for punct in string.punctuation)\n",
        "\n",
        "def LemNormalize(text):\n",
        "    return LemTokens(nltk.word_tokenize(text.lower().translate(remove_punct_dict)))"
      ],
      "metadata": {
        "id": "KovjG80HaxpS"
      },
      "execution_count": null,
      "outputs": []
    },
    {
      "cell_type": "code",
      "source": [
        "GREET_INPUTS = (\"hello\", \"hi\", \"greetings\", \"sup\", \"hey\",)\n",
        "GREET_RESPONSES = [\"hi\", \"hey\", \"hi there\", \"hello\", \"I am glad! You are talking to me\"]\n",
        "\n",
        "def greet(sentence):\n",
        "    for word in sentence.split():\n",
        "        if word.lower() in GREET_INPUTS:\n",
        "            return random.choice(GREET_RESPONSES)"
      ],
      "metadata": {
        "id": "OS9b_JlTa1-0"
      },
      "execution_count": null,
      "outputs": []
    },
    {
      "cell_type": "code",
      "source": [
        "from sklearn.feature_extraction.text import TfidfVectorizer\n",
        "from sklearn.metrics.pairwise import cosine_similarity"
      ],
      "metadata": {
        "id": "8kP7QX11a7Oy"
      },
      "execution_count": null,
      "outputs": []
    },
    {
      "cell_type": "code",
      "source": [
        "def response(user_response):\n",
        "    robo1_response = ''\n",
        "    TfidVec = TfidfVectorizer(tokenizer=LemNormalize, stop_words='english')\n",
        "    tfidf = TfidVec.fit_transform(sent_tokens)\n",
        "    vals = cosine_similarity(tfidf[-1], tfidf)  # Compare the last user_response with other responses\n",
        "    idx = vals.argsort()[0][-2]  # Get the index of the most similar response\n",
        "    flat = vals.flatten()\n",
        "    flat.sort()\n",
        "    req_tfidf = flat[-2]\n",
        "    if req_tfidf == 0:\n",
        "        robo1_response = \"I am sorry! I don't understand you.\"\n",
        "    else:\n",
        "        robo1_response = sent_tokens[idx]  # Use the most similar response to the user's input\n",
        "    return robo1_response"
      ],
      "metadata": {
        "id": "mcK85JxRa7nD"
      },
      "execution_count": null,
      "outputs": []
    },
    {
      "cell_type": "code",
      "source": [
        "nlp = spacy.load(\"en_core_web_sm\")\n",
        "\n",
        "def entity_recognition(text):\n",
        "    doc = nlp(text)\n",
        "    entities = [(ent.text, ent.label_) for ent in doc.ents]\n",
        "    return entities\n",
        "\n",
        "def handle_ambiguity(user_response):\n",
        "    ambiguous_keywords = [\"book\", \"reservation\", \"order\"]\n",
        "\n",
        "    for keyword in ambiguous_keywords:\n",
        "        if keyword in user_response:\n",
        "            return \"Can you please clarify? Are you referring to booking a reservation or placing an order?\"\n",
        "\n",
        "    # No ambiguity found, return the regular response\n",
        "    return response(user_response)"
      ],
      "metadata": {
        "id": "oHPD2PZTa7pj"
      },
      "execution_count": null,
      "outputs": []
    },
    {
      "cell_type": "code",
      "source": [
        "\n",
        "flag = True\n",
        "print(\"BOT: My name is UDIT. Let's have a conversation! Also, If you want to exit any time, just type Bye!\")\n",
        "while flag:\n",
        "    user_response = input(\"You: \")  # Prompt user for input\n",
        "    user_response = user_response.lower()\n",
        "    if user_response != 'bye':\n",
        "        if user_response == 'thanks' or user_response == 'thank you':\n",
        "            flag = False\n",
        "            print(\"BOT: You are welcome.\")\n",
        "        else:\n",
        "            if greet(user_response) is not None:\n",
        "                print(\"BOT: \" + greet(user_response))\n",
        "            else:\n",
        "                print(\"BOT: \" + handle_ambiguity(user_response))  # Use handle_ambiguity to handle ambiguous queries\n",
        "    else:\n",
        "        flag = False\n",
        "        print(\"BOT: Goodbye! Take care <3\")\n",
        "    sent_tokens.append(user_response)  # Add the user response to sent_tokens after each iteration"
      ],
      "metadata": {
        "colab": {
          "base_uri": "https://localhost:8080/"
        },
        "id": "73Tg8tnia7sx",
        "outputId": "9ce1189e-5919-4336-eaa5-9e4dafd748f5"
      },
      "execution_count": null,
      "outputs": [
        {
          "output_type": "stream",
          "name": "stdout",
          "text": [
            "BOT: My name is UDIT. Let's have a conversation! Also, If you want to exit any time, just type Bye!\n",
            "You: hi\n",
            "BOT: hi there\n",
            "You: order food\n",
            "BOT: Can you please clarify? Are you referring to booking a reservation or placing an order?\n",
            "You: booking a reservation\n",
            "BOT: Can you please clarify? Are you referring to booking a reservation or placing an order?\n",
            "You: bye\n",
            "BOT: Goodbye! Take care <3\n"
          ]
        }
      ]
    },
    {
      "cell_type": "code",
      "source": [
        "from sklearn.metrics import precision_score, recall_score, f1_score\n",
        "\n",
        "ground_truth_labels = [1, 0, 1, 1, 1]\n",
        "predicted_labels = [1, 1, 0, 1, 1]\n",
        "\n",
        "precision = precision_score(ground_truth_labels, predicted_labels)\n",
        "recall = recall_score(ground_truth_labels, predicted_labels)\n",
        "f1 = f1_score(ground_truth_labels, predicted_labels)\n",
        "\n",
        "print(\"Precision:\", precision)\n",
        "print(\"Recall:\", recall)\n",
        "print(\"F1-Score:\", f1)"
      ],
      "metadata": {
        "colab": {
          "base_uri": "https://localhost:8080/"
        },
        "id": "I4jQp5H2dxyL",
        "outputId": "f51d2a23-0b50-4cbd-e134-f6650675211a"
      },
      "execution_count": 17,
      "outputs": [
        {
          "output_type": "stream",
          "name": "stdout",
          "text": [
            "Precision: 0.75\n",
            "Recall: 0.75\n",
            "F1-Score: 0.75\n"
          ]
        }
      ]
    },
    {
      "cell_type": "code",
      "source": [],
      "metadata": {
        "id": "T_eMD30cboRB"
      },
      "execution_count": null,
      "outputs": []
    }
  ]
}